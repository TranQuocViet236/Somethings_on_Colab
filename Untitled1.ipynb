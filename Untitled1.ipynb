{
  "nbformat": 4,
  "nbformat_minor": 0,
  "metadata": {
    "colab": {
      "name": "Untitled1.ipynb",
      "private_outputs": true,
      "provenance": [],
      "authorship_tag": "ABX9TyNM6cAoSipcBFJxW/hi+gmI",
      "include_colab_link": true
    },
    "kernelspec": {
      "name": "python3",
      "display_name": "Python 3"
    },
    "language_info": {
      "name": "python"
    },
    "accelerator": "GPU"
  },
  "cells": [
    {
      "cell_type": "markdown",
      "metadata": {
        "id": "view-in-github",
        "colab_type": "text"
      },
      "source": [
        "<a href=\"https://colab.research.google.com/github/TranQuocViet236/Somethings_on_Colab/blob/main/Untitled1.ipynb\" target=\"_parent\"><img src=\"https://colab.research.google.com/assets/colab-badge.svg\" alt=\"Open In Colab\"/></a>"
      ]
    },
    {
      "cell_type": "code",
      "metadata": {
        "id": "P9hvx_eW5Lkb"
      },
      "source": [
        "from google.colab import drive\n",
        "drive.mount('/content/gdrive')"
      ],
      "execution_count": null,
      "outputs": []
    },
    {
      "cell_type": "code",
      "metadata": {
        "id": "6lVsl7wS5Rlx"
      },
      "source": [
        "from sklearn.linear_model import LogisticRegression\n",
        "from sklearn.model_selection import GridSearchCV\n",
        "from sklearn.model_selection import train_test_split\n",
        "from sklearn.metrics import classification_report\n",
        "from imutils import paths\n",
        "from tensorflow.keras.applications import VGG16\n",
        "from keras.applications import imagenet_utils\n",
        "from keras.preprocessing.image import img_to_array, load_img\n",
        "from sklearn.preprocessing import LabelEncoder\n",
        "import numpy as np\n",
        "import os\n",
        "import random"
      ],
      "execution_count": null,
      "outputs": []
    },
    {
      "cell_type": "code",
      "metadata": {
        "id": "G-Y7STp75miF"
      },
      "source": [
        "#Lấy đường dẫn đến ảnh\n",
        "image_path = list(paths.list_images('/content/gdrive/MyDrive/ML/Transfer_deep/dataset/'))\n",
        "print(len(image_path))\n",
        "#Dổi vị trí, xáo trộn các đường dẫn ảnh\n",
        "random.shuffle(image_path)\n",
        "print(image_path[0])"
      ],
      "execution_count": null,
      "outputs": []
    },
    {
      "cell_type": "code",
      "metadata": {
        "id": "zmX7KdyO6BWU"
      },
      "source": [
        "#Đường dẫn các ảnh là dataset/tên loài hoa/ tên ảnh => ta lấy tên loài hoa như sau\n",
        "labels = [p.split(os.path.sep)[-2] for p in image_path]\n",
        "print(labels[0])\n",
        "print(len(labels))"
      ],
      "execution_count": null,
      "outputs": []
    },
    {
      "cell_type": "code",
      "metadata": {
        "id": "M78ENzYq7T0p"
      },
      "source": [
        "#Chuyển tên các loài hoa thành số\n",
        "le = LabelEncoder()\n",
        "labels = le.fit_transform(labels)\n",
        "print(labels[0])"
      ],
      "execution_count": null,
      "outputs": []
    },
    {
      "cell_type": "code",
      "metadata": {
        "id": "RcsbTT2x7y0D"
      },
      "source": [
        "#Load model VGG16 của ImageNet dataset, include_top = False để bỏ phần fully connected layer\n",
        "model = VGG16(weights='imagenet', include_top=False)"
      ],
      "execution_count": null,
      "outputs": []
    },
    {
      "cell_type": "code",
      "metadata": {
        "id": "9PpuCs9D8RHd"
      },
      "source": [
        "#Load ảnh và resize về đúng kích thước mà VGG 16 cần là 224x224"
      ],
      "execution_count": null,
      "outputs": []
    },
    {
      "cell_type": "code",
      "metadata": {
        "id": "4QR9k9C_8aAc"
      },
      "source": [
        "list_image = []"
      ],
      "execution_count": null,
      "outputs": []
    },
    {
      "cell_type": "code",
      "metadata": {
        "id": "gZodk1r68b7n"
      },
      "source": [
        "print(enumerate(image_path))\n",
        "\n",
        "for (j, image_path) in enumerate(image_path):\n",
        "  image = load_img(image_path, target_size=(224,224))\n",
        "  image = img_to_array(image)\n",
        "  \n",
        "  image = np.expand_dims(image,0)\n",
        "  image = imagenet_utils.preprocess_input(image)\n",
        "  \n",
        "  list_image.append(image)\n",
        "list_image = np.vstack(list_image)\n",
        "print(list_image.shape)"
      ],
      "execution_count": null,
      "outputs": []
    },
    {
      "cell_type": "code",
      "metadata": {
        "id": "vaxMGY0s9FVQ"
      },
      "source": [
        "#Dùng pre_trained model để lấy ra các features của ảnh\n",
        "features = model.predict(list_image)"
      ],
      "execution_count": null,
      "outputs": []
    },
    {
      "cell_type": "code",
      "metadata": {
        "id": "4esVPh14Buwx"
      },
      "source": [
        "#Giống bước flatten trong CNN, chuyển từ tensor 3 chiều sau ConvNet sang vector 1 chiều\n",
        "features = features.reshape((features.shape[0], 512*7*7))"
      ],
      "execution_count": null,
      "outputs": []
    },
    {
      "cell_type": "code",
      "metadata": {
        "id": "Udyt-v71CZdS"
      },
      "source": [
        "# Chia training set, test set theo tỉ lệ 80,20\n",
        "X_train, X_test, y_train, y_test = train_test_split(features,labels, test_size=0.2, random_state = 42)"
      ],
      "execution_count": null,
      "outputs": []
    },
    {
      "cell_type": "code",
      "metadata": {
        "id": "TWLf8W6OERFn"
      },
      "source": [
        "params = {'C' : [0.1, 1.0, 10.0, 100.0]}"
      ],
      "execution_count": null,
      "outputs": []
    },
    {
      "cell_type": "code",
      "metadata": {
        "id": "wg59X5XcE1Ft"
      },
      "source": [
        "model= GridSearchCV(LogisticRegression(), params)"
      ],
      "execution_count": null,
      "outputs": []
    },
    {
      "cell_type": "code",
      "metadata": {
        "id": "E3FcqHpHE7v4"
      },
      "source": [
        "model.fit(X_train,y_train)"
      ],
      "execution_count": null,
      "outputs": []
    },
    {
      "cell_type": "code",
      "metadata": {
        "id": "zam1Wp84Fzxq"
      },
      "source": [
        "print('Best parameter for the mdel {}'.format(model.best_params_))"
      ],
      "execution_count": null,
      "outputs": []
    },
    {
      "cell_type": "code",
      "metadata": {
        "id": "q5F3NkxqHgsL"
      },
      "source": [
        "preds = model.predict(X_test)\n",
        "print(classification_report(y_test, preds))"
      ],
      "execution_count": null,
      "outputs": []
    },
    {
      "cell_type": "code",
      "metadata": {
        "id": "_c03PHEYH2Ch"
      },
      "source": [
        ""
      ],
      "execution_count": null,
      "outputs": []
    }
  ]
}