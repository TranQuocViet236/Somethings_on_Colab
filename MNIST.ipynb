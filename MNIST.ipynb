{
  "nbformat": 4,
  "nbformat_minor": 0,
  "metadata": {
    "colab": {
      "name": "MNIST.ipynb",
      "private_outputs": true,
      "provenance": [],
      "authorship_tag": "ABX9TyOD9PtCaN1kvOk1cSB7YcuX",
      "include_colab_link": true
    },
    "kernelspec": {
      "name": "python3",
      "display_name": "Python 3"
    },
    "language_info": {
      "name": "python"
    },
    "accelerator": "GPU"
  },
  "cells": [
    {
      "cell_type": "markdown",
      "metadata": {
        "id": "view-in-github",
        "colab_type": "text"
      },
      "source": [
        "<a href=\"https://colab.research.google.com/github/TranQuocViet236/Somethings_on_Colab/blob/main/MNIST.ipynb\" target=\"_parent\"><img src=\"https://colab.research.google.com/assets/colab-badge.svg\" alt=\"Open In Colab\"/></a>"
      ]
    },
    {
      "cell_type": "code",
      "metadata": {
        "id": "WzTi5c3Pw3Oe"
      },
      "source": [
        "import tensorflow as tf\n",
        "mnist = tf.keras.datasets.mnist\n",
        "(training_images, training_labels), (test_images, test_labels) = mnist.load_data()"
      ],
      "execution_count": null,
      "outputs": []
    },
    {
      "cell_type": "code",
      "metadata": {
        "id": "fSPXKVucxDq1"
      },
      "source": [
        "import matplotlib.pyplot as plt\n",
        "\n",
        "plt.imshow(training_images[5])"
      ],
      "execution_count": null,
      "outputs": []
    },
    {
      "cell_type": "code",
      "metadata": {
        "id": "0PE8WBM7xU0y"
      },
      "source": [
        "training_labels[0]"
      ],
      "execution_count": null,
      "outputs": []
    },
    {
      "cell_type": "code",
      "metadata": {
        "id": "zQcm43ka2ynQ"
      },
      "source": [
        "import tensorflow as tf\n",
        "from tensorflow.keras.models import Sequential\n",
        "from tensorflow.keras.layers import Conv2D, Activation, MaxPooling2D,BatchNormalization,Dense,Flatten\n",
        "from tensorflow.keras.preprocessing.image import ImageDataGenerator\n",
        "from tensorflow.keras.optimizers import SGD\n",
        "# Chuẩn hóa lại dữ liệu bằng cách chia các giá trị của pixel cho 255.0\n",
        "# Sử dụng test_images, test_labels để làm tập validation\n",
        "\n",
        "mnist = tf.keras.datasets.mnist\n",
        "(training_images, training_labels), (test_images, test_labels) = mnist.load_data()\n",
        "\n",
        "shape= (28,28,1)\n",
        "# Khởi tạo model\n",
        "model = Sequential()\n",
        "\n",
        "# Thêm một lớp tích chập + lớp Activation: relu\n",
        "model.add(Conv2D(32,(3,3),activation=\"relu\",input_shape = shape))\n",
        "# model.add(Activation(\"relu\"))\n",
        "\n",
        "# Thêm một lớp Max Pooling\n",
        "model.add(MaxPooling2D(pool_size=(2,2)))\n",
        "\n",
        "# Thêm một lớp duỗi\n",
        "model.add(Flatten())\n",
        "#Thêm một lớp Dense\n",
        "model.add(Dense(128,activation=\"relu\"))\n",
        "classes = 10\n",
        "model.add(Dense(classes,activation=\"softmax\"))\n",
        "\n",
        "#Xử lí dữ liệu\\\n",
        "training_images = training_images/255.0\n",
        "training_images.reshape(60000,28,28,1)\n",
        "test_images = test_images/255.0\n",
        "test_images.reshape(10000,28,28,1)\n",
        "model.summary()\n",
        "model.compile(optimizer=\"adam\",loss= \"sparse_categorical_crossentropy\",metrics=[\"acc\"])\n",
        "print(\"Training!...\")\n",
        "model.fit(training_images,training_labels,epochs=10,validation_data=(test_images,test_labels))"
      ],
      "execution_count": null,
      "outputs": []
    }
  ]
}