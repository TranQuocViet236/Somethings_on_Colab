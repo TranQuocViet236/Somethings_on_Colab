{
  "nbformat": 4,
  "nbformat_minor": 0,
  "metadata": {
    "colab": {
      "name": "Deep_Minist.ipynb",
      "private_outputs": true,
      "provenance": [],
      "authorship_tag": "ABX9TyPDoFUcSjrXbGsk9apzaKwY",
      "include_colab_link": true
    },
    "kernelspec": {
      "name": "python3",
      "display_name": "Python 3"
    },
    "language_info": {
      "name": "python"
    },
    "accelerator": "GPU"
  },
  "cells": [
    {
      "cell_type": "markdown",
      "metadata": {
        "id": "view-in-github",
        "colab_type": "text"
      },
      "source": [
        "<a href=\"https://colab.research.google.com/github/TranQuocViet236/Somethings_on_Colab/blob/main/Deep_Minist.ipynb\" target=\"_parent\"><img src=\"https://colab.research.google.com/assets/colab-badge.svg\" alt=\"Open In Colab\"/></a>"
      ]
    },
    {
      "cell_type": "code",
      "metadata": {
        "id": "FecrvAmjHVS9"
      },
      "source": [
        "import numpy as np\n",
        "import matplotlib.pyplot as plt\n",
        "\n",
        "from keras.models import Sequential\n",
        "from keras.layers import Conv2D, Flatten, Dense, Dropout, Activation, MaxPooling2D\n",
        "from keras.utils import np_utils\n",
        "from keras.datasets import mnist\n"
      ],
      "execution_count": null,
      "outputs": []
    },
    {
      "cell_type": "code",
      "metadata": {
        "id": "dOey_KKEIGWO"
      },
      "source": [
        "(X_train, y_train), (X_test, y_test) = mnist.load_data()"
      ],
      "execution_count": null,
      "outputs": []
    },
    {
      "cell_type": "code",
      "metadata": {
        "id": "oJEIPcn2JGBL"
      },
      "source": [
        "X_train, y_train = X_train[:50000,:], y_train[:50000]\n",
        "X_val, y_val = X_train[50000:60000, :], y_train[50000:60000]\n",
        "# print(X_train[[0]])\n",
        "print(X_train.shape)"
      ],
      "execution_count": null,
      "outputs": []
    },
    {
      "cell_type": "code",
      "metadata": {
        "id": "6QL5TpECJcO7"
      },
      "source": [
        "\n",
        "X_train = X_train.reshape((X_train.shape[0],28,28,1))\n",
        "X_val = X_val.reshape((X_val.shape[0],28,28,1))\n",
        "X_test = X_test.reshape((X_test.shape[0],28,28,1))"
      ],
      "execution_count": null,
      "outputs": []
    },
    {
      "cell_type": "code",
      "metadata": {
        "id": "FUCtBDsbLgso"
      },
      "source": [
        "#One hot encoding labels\n",
        "# print(y_train[0])\n",
        "y_train = np_utils.to_categorical(y_train,10)\n",
        "y_val = np_utils.to_categorical(y_val,10)\n",
        "y_test = np_utils.to_categorical(y_test,10)"
      ],
      "execution_count": null,
      "outputs": []
    },
    {
      "cell_type": "code",
      "metadata": {
        "id": "CUjiYRlmLzuL"
      },
      "source": [
        "#Build models:\n",
        "model = Sequential()\n",
        "model.add(Conv2D(32,(3,3), activation='sigmoid',input_shape = (28,28,1)))"
      ],
      "execution_count": null,
      "outputs": []
    },
    {
      "cell_type": "code",
      "metadata": {
        "id": "LYj9tK_EMhLL"
      },
      "source": [
        "model.add(Conv2D(32,(3,3), activation='sigmoid'))"
      ],
      "execution_count": null,
      "outputs": []
    },
    {
      "cell_type": "code",
      "metadata": {
        "id": "2IevmvpZNkZL"
      },
      "source": [
        "model.add(MaxPooling2D(pool_size=(2,2)))"
      ],
      "execution_count": null,
      "outputs": []
    },
    {
      "cell_type": "code",
      "metadata": {
        "id": "dSeLK1pjNqdD"
      },
      "source": [
        "model.add(Flatten())"
      ],
      "execution_count": null,
      "outputs": []
    },
    {
      "cell_type": "code",
      "metadata": {
        "id": "RSOJnvEyNuXO"
      },
      "source": [
        "model.add(Dense(128,activation='sigmoid'))"
      ],
      "execution_count": null,
      "outputs": []
    },
    {
      "cell_type": "code",
      "metadata": {
        "id": "Dmk-v1tuOBEq"
      },
      "source": [
        "model.add(Dense(10,activation='softmax'))"
      ],
      "execution_count": null,
      "outputs": []
    },
    {
      "cell_type": "code",
      "metadata": {
        "id": "H4PGFdWlOEzo"
      },
      "source": [
        "model.compile(loss='categorical_crossentropy', optimizer='adam', metrics=['acc'])"
      ],
      "execution_count": null,
      "outputs": []
    },
    {
      "cell_type": "code",
      "metadata": {
        "id": "3XGO9XfrZYGV"
      },
      "source": [
        "H = model.fit(X_train,y_train,validation_split=0.5,batch_size=32,epochs=10,verbose=1)"
      ],
      "execution_count": null,
      "outputs": []
    },
    {
      "cell_type": "code",
      "metadata": {
        "id": "TSC1NFkUOor0"
      },
      "source": [
        "# H = model.fit(X_train,y_train,validation_data=(X_val,y_val),batch_size=32,epochs=10,verbose=1)"
      ],
      "execution_count": null,
      "outputs": []
    },
    {
      "cell_type": "code",
      "metadata": {
        "id": "U4TCCeN6PXD7"
      },
      "source": [
        "fig = plt.figure()"
      ],
      "execution_count": null,
      "outputs": []
    },
    {
      "cell_type": "code",
      "metadata": {
        "id": "NZZH7KDEQbki"
      },
      "source": [
        "num_of_epochs= 10"
      ],
      "execution_count": null,
      "outputs": []
    },
    {
      "cell_type": "code",
      "metadata": {
        "id": "3OB6gtYyRRK1"
      },
      "source": [
        "\n",
        "plt.plot(np.arange(0,num_of_epochs), H.history['loss'], label = 'training loss')\n",
        "print(H.history.keys())\n",
        "plt.plot(np.arange(0,num_of_epochs), H.history['val_loss'], label = 'validation loss')\n",
        "# plt.plot(np.arange(0,num_of_epochs), H.history['val_acc'], label = 'validation accuracy')\n",
        "# plt.plot(np.arange(0,num_of_epochs), H.history['acc'], label = 'accuracy')\n",
        "plt.legend()\n"
      ],
      "execution_count": null,
      "outputs": []
    },
    {
      "cell_type": "code",
      "metadata": {
        "id": "MMEJaAlGRtK6"
      },
      "source": [
        "score = model.evaluate(X_test,y_test,verbose=1)"
      ],
      "execution_count": null,
      "outputs": []
    },
    {
      "cell_type": "code",
      "metadata": {
        "id": "va3Zle5ndn__"
      },
      "source": [
        "plt.imshow(X_test[0].reshape(28,28),cmap = 'gray')"
      ],
      "execution_count": null,
      "outputs": []
    },
    {
      "cell_type": "code",
      "metadata": {
        "id": "LtM37ks2e7Hc"
      },
      "source": [
        "y_predict = model.predict(X_test[0].reshape(1,28,28,1))"
      ],
      "execution_count": null,
      "outputs": []
    },
    {
      "cell_type": "code",
      "metadata": {
        "id": "xs6gyuSbfZEB"
      },
      "source": [
        "np.argmax(y_predict)"
      ],
      "execution_count": null,
      "outputs": []
    },
    {
      "cell_type": "code",
      "metadata": {
        "id": "D95RRq2ufeKT"
      },
      "source": [
        "y_predict\n"
      ],
      "execution_count": null,
      "outputs": []
    }
  ]
}