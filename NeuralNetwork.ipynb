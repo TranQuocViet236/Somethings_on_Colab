{
  "nbformat": 4,
  "nbformat_minor": 0,
  "metadata": {
    "colab": {
      "name": "NeuralNetwork.ipynb",
      "private_outputs": true,
      "provenance": [],
      "authorship_tag": "ABX9TyNar8/V0azLVRyoZ+9kki17",
      "include_colab_link": true
    },
    "kernelspec": {
      "name": "python3",
      "display_name": "Python 3"
    },
    "language_info": {
      "name": "python"
    },
    "accelerator": "GPU"
  },
  "cells": [
    {
      "cell_type": "markdown",
      "metadata": {
        "id": "view-in-github",
        "colab_type": "text"
      },
      "source": [
        "<a href=\"https://colab.research.google.com/github/TranQuocViet236/Somethings_on_Colab/blob/main/NeuralNetwork.ipynb\" target=\"_parent\"><img src=\"https://colab.research.google.com/assets/colab-badge.svg\" alt=\"Open In Colab\"/></a>"
      ]
    },
    {
      "cell_type": "code",
      "metadata": {
        "id": "J_KHOB76RqeS"
      },
      "source": [
        "!pip install pillow mnist numpy sklearn "
      ],
      "execution_count": null,
      "outputs": []
    },
    {
      "cell_type": "code",
      "metadata": {
        "id": "NtfQzi2FWDsa"
      },
      "source": [
        "from PIL import Image\n",
        "import numpy as np\n",
        "from sklearn.neural_network import MLPClassifier\n",
        "from sklearn.metrics import confusion_matrix\n",
        "import mnist"
      ],
      "execution_count": null,
      "outputs": []
    },
    {
      "cell_type": "code",
      "metadata": {
        "id": "Zm6_MJ--WqLR"
      },
      "source": [
        "X_train = mnist.train_images()\n",
        "y_train = mnist.train_labels()"
      ],
      "execution_count": null,
      "outputs": []
    },
    {
      "cell_type": "code",
      "metadata": {
        "id": "P0YlliMKW2OO"
      },
      "source": [
        "x_test = mnist.test_images()\n",
        "y_test = mnist.test_labels()"
      ],
      "execution_count": null,
      "outputs": []
    },
    {
      "cell_type": "code",
      "metadata": {
        "id": "UoKKplUwXMVF"
      },
      "source": [
        "print('X_train', X_train)\n",
        "print('X_test', x_test)\n",
        "print('y_train', y_train)\n",
        "print('y_test', y_test)"
      ],
      "execution_count": null,
      "outputs": []
    },
    {
      "cell_type": "code",
      "metadata": {
        "id": "LvorYZ8rZBfO"
      },
      "source": [
        "X_train = X_train.reshape((-1,28*28))\n",
        "x_test  =x_test.reshape((-1,28*28))"
      ],
      "execution_count": null,
      "outputs": []
    },
    {
      "cell_type": "code",
      "metadata": {
        "id": "p6HMU80RZ72E"
      },
      "source": [
        "print(X_train[0])"
      ],
      "execution_count": null,
      "outputs": []
    },
    {
      "cell_type": "code",
      "metadata": {
        "id": "VAZfOUdJaMos"
      },
      "source": [
        "X_train = X_train/256\n",
        "x_test = x_test/256"
      ],
      "execution_count": null,
      "outputs": []
    },
    {
      "cell_type": "code",
      "metadata": {
        "id": "pYD4yGZka83x"
      },
      "source": [
        "clf = MLPClassifier(solver='adam', activation='relu', hidden_layer_sizes=(64,64))"
      ],
      "execution_count": null,
      "outputs": []
    },
    {
      "cell_type": "code",
      "metadata": {
        "id": "awunajt4bHC-"
      },
      "source": [
        "clf.fit(X_train,y_train)"
      ],
      "execution_count": null,
      "outputs": []
    },
    {
      "cell_type": "code",
      "metadata": {
        "id": "Qn08xBtcbU7M"
      },
      "source": [
        "prediction = clf.predict(x_test)"
      ],
      "execution_count": null,
      "outputs": []
    },
    {
      "cell_type": "code",
      "metadata": {
        "id": "nFn4VEsubwGM"
      },
      "source": [
        "acc = confusion_matrix(y_test, prediction)"
      ],
      "execution_count": null,
      "outputs": []
    },
    {
      "cell_type": "code",
      "metadata": {
        "id": "H9Y6vr17b0Zw"
      },
      "source": [
        "print(acc)"
      ],
      "execution_count": null,
      "outputs": []
    },
    {
      "cell_type": "code",
      "metadata": {
        "id": "gPl10iY6b6EE"
      },
      "source": [
        "def accuracy(cm):\n",
        "  diagonal = cm.trace()\n",
        "  elements = cm.sum()\n",
        "  return diagonal/elements"
      ],
      "execution_count": null,
      "outputs": []
    },
    {
      "cell_type": "code",
      "metadata": {
        "id": "FKHCQV23ca-f"
      },
      "source": [
        "print(accuracy(acc))\n",
        "print(acc.trace())"
      ],
      "execution_count": null,
      "outputs": []
    },
    {
      "cell_type": "code",
      "metadata": {
        "id": "Jw8qlh6NcfeG"
      },
      "source": [
        "from google.colab import drive\n",
        "drive.mount('/content/gdrive/')"
      ],
      "execution_count": null,
      "outputs": []
    },
    {
      "cell_type": "code",
      "metadata": {
        "id": "H8yvn4ZkhtoC"
      },
      "source": [
        "path = '/content/gdrive/MyDrive/ML/Scikit_learn/Untitled.png'"
      ],
      "execution_count": null,
      "outputs": []
    },
    {
      "cell_type": "code",
      "metadata": {
        "id": "0vRusKOYjwZL"
      },
      "source": [
        "import cv2\n",
        "img6 = cv2.imread(path,0)"
      ],
      "execution_count": null,
      "outputs": []
    },
    {
      "cell_type": "code",
      "metadata": {
        "id": "NiHQCyC_jzsw"
      },
      "source": [
        "img6"
      ],
      "execution_count": null,
      "outputs": []
    },
    {
      "cell_type": "code",
      "metadata": {
        "id": "xyBcRbhqj44V"
      },
      "source": [
        "print(img6)"
      ],
      "execution_count": null,
      "outputs": []
    },
    {
      "cell_type": "code",
      "metadata": {
        "id": "moapFRcdkBRQ"
      },
      "source": [
        "img6 = 255-img6"
      ],
      "execution_count": null,
      "outputs": []
    },
    {
      "cell_type": "code",
      "metadata": {
        "id": "Eyn6LSuzkFA7"
      },
      "source": [
        "print(img6)"
      ],
      "execution_count": null,
      "outputs": []
    },
    {
      "cell_type": "code",
      "metadata": {
        "id": "9ZDFrrw1k4Ju"
      },
      "source": [
        "img6 = img6/256"
      ],
      "execution_count": null,
      "outputs": []
    },
    {
      "cell_type": "code",
      "metadata": {
        "id": "5Js2ZtLPk7Vg"
      },
      "source": [
        "print(img6)"
      ],
      "execution_count": null,
      "outputs": []
    },
    {
      "cell_type": "code",
      "metadata": {
        "id": "1Nhc-6DNk9Bj"
      },
      "source": [
        "img6 = np.array((img6))\n",
        "print(img6.shape)\n",
        "img6= img6.reshape((-1,28*28))\n",
        "print(img6)"
      ],
      "execution_count": null,
      "outputs": []
    },
    {
      "cell_type": "code",
      "metadata": {
        "id": "Rw-BXS_hlVgl"
      },
      "source": [
        "p = clf.predict(img6)"
      ],
      "execution_count": null,
      "outputs": []
    },
    {
      "cell_type": "code",
      "metadata": {
        "id": "XN41HodjlfXw"
      },
      "source": [
        "print(p)"
      ],
      "execution_count": null,
      "outputs": []
    },
    {
      "cell_type": "code",
      "metadata": {
        "id": "bCvfbRmitxOU"
      },
      "source": [
        ""
      ],
      "execution_count": null,
      "outputs": []
    }
  ]
}